{
 "cells": [
  {
   "cell_type": "code",
   "execution_count": 1,
   "id": "5fa356f5-60ac-4318-8c04-0c4330ef23ab",
   "metadata": {},
   "outputs": [],
   "source": [
    "import pandas as pd\n",
    "import matplotlib as plt"
   ]
  },
  {
   "cell_type": "code",
   "execution_count": 2,
   "id": "4275933d-7d9d-4a8c-bbd8-7161262c181c",
   "metadata": {},
   "outputs": [],
   "source": [
    "world = pd.read_csv('/Users/bobbiewilliams/Desktop/SQL And Phyton 2025 projects/Data for Phyton Course/2018-2019 Happiness.csv')\n",
    "airbnb = pd.read_csv('/Users/bobbiewilliams/Desktop/SQL And Phyton 2025 projects/Data for Phyton Course/airbnb.csv')\n",
    "salaries = pd.read_csv('/Users/bobbiewilliams/Desktop/SQL And Phyton 2025 projects/Data for Phyton Course/salaries.csv')\n",
    "sales = pd.read_csv('/Users/bobbiewilliams/Desktop/SQL And Phyton 2025 projects/Data for Phyton Course/web_sales.csv')"
   ]
  },
  {
   "cell_type": "code",
   "execution_count": 4,
   "id": "b66b90aa-b7b3-472e-bf4c-4e36a880e51f",
   "metadata": {},
   "outputs": [
    {
     "name": "stdout",
     "output_type": "stream",
     "text": [
      "<class 'pandas.core.frame.DataFrame'>\n",
      "RangeIndex: 60398 entries, 0 to 60397\n",
      "Data columns (total 11 columns):\n",
      " #   Column                 Non-Null Count  Dtype  \n",
      "---  ------                 --------------  -----  \n",
      " 0   ProductKey             60398 non-null  int64  \n",
      " 1   product                60398 non-null  object \n",
      " 2   product_subcategory    60398 non-null  object \n",
      " 3   OrderDateKey           60398 non-null  int64  \n",
      " 4   CalendarYear           60398 non-null  int64  \n",
      " 5   SalesTerritoryRegion   60398 non-null  object \n",
      " 6   SalesTerritoryCountry  60398 non-null  object \n",
      " 7   SalesOrderNumber       60398 non-null  object \n",
      " 8   SalesAmount            60398 non-null  float64\n",
      " 9   TaxAmt                 60398 non-null  float64\n",
      " 10  Freight                60398 non-null  float64\n",
      "dtypes: float64(3), int64(3), object(5)\n",
      "memory usage: 5.1+ MB\n"
     ]
    }
   ],
   "source": [
    "sales.info()"
   ]
  },
  {
   "cell_type": "code",
   "execution_count": 6,
   "id": "90f2c8e4-53c7-497e-b4f3-aece1c82a6a9",
   "metadata": {},
   "outputs": [
    {
     "data": {
      "text/plain": [
       "0        3578.2700\n",
       "1        3399.9900\n",
       "2        3399.9900\n",
       "3         699.0982\n",
       "4        3399.9900\n",
       "           ...    \n",
       "60393      21.9800\n",
       "60394       8.9900\n",
       "60395      21.9800\n",
       "60396     159.0000\n",
       "60397       8.9900\n",
       "Name: SalesAmount, Length: 60398, dtype: float64"
      ]
     },
     "execution_count": 6,
     "metadata": {},
     "output_type": "execute_result"
    }
   ],
   "source": [
    "sales['SalesAmount']"
   ]
  },
  {
   "cell_type": "code",
   "execution_count": 8,
   "id": "8cde489c-edc5-425f-9e99-8c12a90db29f",
   "metadata": {},
   "outputs": [
    {
     "data": {
      "text/html": [
       "<div>\n",
       "<style scoped>\n",
       "    .dataframe tbody tr th:only-of-type {\n",
       "        vertical-align: middle;\n",
       "    }\n",
       "\n",
       "    .dataframe tbody tr th {\n",
       "        vertical-align: top;\n",
       "    }\n",
       "\n",
       "    .dataframe thead th {\n",
       "        text-align: right;\n",
       "    }\n",
       "</style>\n",
       "<table border=\"1\" class=\"dataframe\">\n",
       "  <thead>\n",
       "    <tr style=\"text-align: right;\">\n",
       "      <th></th>\n",
       "      <th>Property Type</th>\n",
       "      <th>Room Type</th>\n",
       "    </tr>\n",
       "  </thead>\n",
       "  <tbody>\n",
       "    <tr>\n",
       "      <th>0</th>\n",
       "      <td>Apartment</td>\n",
       "      <td>Entire home/apt</td>\n",
       "    </tr>\n",
       "    <tr>\n",
       "      <th>1</th>\n",
       "      <td>Apartment</td>\n",
       "      <td>Private room</td>\n",
       "    </tr>\n",
       "    <tr>\n",
       "      <th>2</th>\n",
       "      <td>Apartment</td>\n",
       "      <td>Private room</td>\n",
       "    </tr>\n",
       "    <tr>\n",
       "      <th>3</th>\n",
       "      <td>Apartment</td>\n",
       "      <td>Entire home/apt</td>\n",
       "    </tr>\n",
       "    <tr>\n",
       "      <th>4</th>\n",
       "      <td>Apartment</td>\n",
       "      <td>Private room</td>\n",
       "    </tr>\n",
       "    <tr>\n",
       "      <th>...</th>\n",
       "      <td>...</td>\n",
       "      <td>...</td>\n",
       "    </tr>\n",
       "    <tr>\n",
       "      <th>9769</th>\n",
       "      <td>Loft</td>\n",
       "      <td>Entire home/apt</td>\n",
       "    </tr>\n",
       "    <tr>\n",
       "      <th>9770</th>\n",
       "      <td>Apartment</td>\n",
       "      <td>Entire home/apt</td>\n",
       "    </tr>\n",
       "    <tr>\n",
       "      <th>9771</th>\n",
       "      <td>Apartment</td>\n",
       "      <td>Entire home/apt</td>\n",
       "    </tr>\n",
       "    <tr>\n",
       "      <th>9772</th>\n",
       "      <td>Apartment</td>\n",
       "      <td>Entire home/apt</td>\n",
       "    </tr>\n",
       "    <tr>\n",
       "      <th>9773</th>\n",
       "      <td>Apartment</td>\n",
       "      <td>Entire</td>\n",
       "    </tr>\n",
       "  </tbody>\n",
       "</table>\n",
       "<p>9774 rows × 2 columns</p>\n",
       "</div>"
      ],
      "text/plain": [
       "     Property Type        Room Type\n",
       "0        Apartment  Entire home/apt\n",
       "1        Apartment     Private room\n",
       "2        Apartment     Private room\n",
       "3        Apartment  Entire home/apt\n",
       "4        Apartment     Private room\n",
       "...            ...              ...\n",
       "9769          Loft  Entire home/apt\n",
       "9770     Apartment  Entire home/apt\n",
       "9771     Apartment  Entire home/apt\n",
       "9772     Apartment  Entire home/apt\n",
       "9773     Apartment          Entire \n",
       "\n",
       "[9774 rows x 2 columns]"
      ]
     },
     "execution_count": 8,
     "metadata": {},
     "output_type": "execute_result"
    }
   ],
   "source": [
    "airbnb[['Property Type','Room Type' ]]"
   ]
  },
  {
   "cell_type": "code",
   "execution_count": 13,
   "id": "fc7aaf12-23f0-4f01-9139-cbb1cf27eec6",
   "metadata": {},
   "outputs": [
    {
     "data": {
      "text/plain": [
       "Index(['work_year', 'experience_level', 'employment_type', 'job_title',\n",
       "       'salary', 'salary_currency', 'salary_in_usd', 'employee_residence',\n",
       "       'remote_ratio', 'company_location', 'company_size'],\n",
       "      dtype='object')"
      ]
     },
     "execution_count": 13,
     "metadata": {},
     "output_type": "execute_result"
    }
   ],
   "source": [
    "salaries.columns"
   ]
  },
  {
   "cell_type": "code",
   "execution_count": 15,
   "id": "ee0e78d4-dae1-45b6-a614-38f6280a1156",
   "metadata": {},
   "outputs": [
    {
     "data": {
      "text/plain": [
       "149488.26564452017"
      ]
     },
     "execution_count": 15,
     "metadata": {},
     "output_type": "execute_result"
    }
   ],
   "source": [
    "salaries['salary_in_usd'].mean()"
   ]
  },
  {
   "cell_type": "code",
   "execution_count": 16,
   "id": "dbed0ae6-dabc-455d-8835-627ae5b68a36",
   "metadata": {},
   "outputs": [
    {
     "data": {
      "text/plain": [
       "29358677.220699996"
      ]
     },
     "execution_count": 16,
     "metadata": {},
     "output_type": "execute_result"
    }
   ],
   "source": [
    "sales['SalesAmount'].sum()"
   ]
  },
  {
   "cell_type": "code",
   "execution_count": 17,
   "id": "b263b9a9-808b-491c-a58f-63af80867f62",
   "metadata": {},
   "outputs": [
    {
     "data": {
      "text/plain": [
       "ProductKey      4.375579e+02\n",
       "OrderDateKey    2.012973e+07\n",
       "CalendarYear    2.012902e+03\n",
       "SalesAmount     4.860869e+02\n",
       "TaxAmt          3.888695e+01\n",
       "Freight         1.215222e+01\n",
       "dtype: float64"
      ]
     },
     "execution_count": 17,
     "metadata": {},
     "output_type": "execute_result"
    }
   ],
   "source": [
    "sales.mean(numeric_only = True)"
   ]
  },
  {
   "cell_type": "code",
   "execution_count": 19,
   "id": "2e2f9509-e67d-465e-acd9-8bf1d2d9a7fa",
   "metadata": {},
   "outputs": [
    {
     "data": {
      "text/plain": [
       "Index(['ProductKey', 'product', 'product_subcategory', 'OrderDateKey',\n",
       "       'CalendarYear', 'SalesTerritoryRegion', 'SalesTerritoryCountry',\n",
       "       'SalesOrderNumber', 'SalesAmount', 'TaxAmt', 'Freight'],\n",
       "      dtype='object')"
      ]
     },
     "execution_count": 19,
     "metadata": {},
     "output_type": "execute_result"
    }
   ],
   "source": [
    "sales.columns"
   ]
  },
  {
   "cell_type": "code",
   "execution_count": 20,
   "id": "e84bae52-531b-490d-b8f4-ac74eaaf77b6",
   "metadata": {},
   "outputs": [
    {
     "data": {
      "text/plain": [
       "928.4898919809369"
      ]
     },
     "execution_count": 20,
     "metadata": {},
     "output_type": "execute_result"
    }
   ],
   "source": [
    "sales['SalesAmount'].std()"
   ]
  },
  {
   "cell_type": "code",
   "execution_count": 22,
   "id": "32a59d0b-4650-4411-9ce1-c878b5809522",
   "metadata": {},
   "outputs": [
    {
     "data": {
      "text/plain": [
       "1.5472550025654181"
      ]
     },
     "execution_count": 22,
     "metadata": {},
     "output_type": "execute_result"
    }
   ],
   "source": [
    "airbnb['Beds'].mean()"
   ]
  },
  {
   "cell_type": "code",
   "execution_count": 23,
   "id": "8e2ae579-8619-4877-88e1-7afbd58e6439",
   "metadata": {},
   "outputs": [
    {
     "data": {
      "text/html": [
       "<div>\n",
       "<style scoped>\n",
       "    .dataframe tbody tr th:only-of-type {\n",
       "        vertical-align: middle;\n",
       "    }\n",
       "\n",
       "    .dataframe tbody tr th {\n",
       "        vertical-align: top;\n",
       "    }\n",
       "\n",
       "    .dataframe thead th {\n",
       "        text-align: right;\n",
       "    }\n",
       "</style>\n",
       "<table border=\"1\" class=\"dataframe\">\n",
       "  <thead>\n",
       "    <tr style=\"text-align: right;\">\n",
       "      <th></th>\n",
       "      <th>ProductKey</th>\n",
       "      <th>OrderDateKey</th>\n",
       "      <th>CalendarYear</th>\n",
       "      <th>SalesAmount</th>\n",
       "      <th>TaxAmt</th>\n",
       "      <th>Freight</th>\n",
       "    </tr>\n",
       "  </thead>\n",
       "  <tbody>\n",
       "    <tr>\n",
       "      <th>count</th>\n",
       "      <td>60398.000000</td>\n",
       "      <td>6.039800e+04</td>\n",
       "      <td>60398.000000</td>\n",
       "      <td>60398.000000</td>\n",
       "      <td>60398.000000</td>\n",
       "      <td>60398.000000</td>\n",
       "    </tr>\n",
       "    <tr>\n",
       "      <th>mean</th>\n",
       "      <td>437.557932</td>\n",
       "      <td>2.012973e+07</td>\n",
       "      <td>2012.902298</td>\n",
       "      <td>486.086911</td>\n",
       "      <td>38.886954</td>\n",
       "      <td>12.152217</td>\n",
       "    </tr>\n",
       "    <tr>\n",
       "      <th>std</th>\n",
       "      <td>118.088390</td>\n",
       "      <td>4.745050e+03</td>\n",
       "      <td>0.477666</td>\n",
       "      <td>928.489892</td>\n",
       "      <td>74.279193</td>\n",
       "      <td>23.212248</td>\n",
       "    </tr>\n",
       "    <tr>\n",
       "      <th>min</th>\n",
       "      <td>214.000000</td>\n",
       "      <td>2.010123e+07</td>\n",
       "      <td>2010.000000</td>\n",
       "      <td>2.290000</td>\n",
       "      <td>0.183200</td>\n",
       "      <td>0.057300</td>\n",
       "    </tr>\n",
       "    <tr>\n",
       "      <th>25%</th>\n",
       "      <td>359.000000</td>\n",
       "      <td>2.013040e+07</td>\n",
       "      <td>2013.000000</td>\n",
       "      <td>7.950000</td>\n",
       "      <td>0.636000</td>\n",
       "      <td>0.198800</td>\n",
       "    </tr>\n",
       "    <tr>\n",
       "      <th>50%</th>\n",
       "      <td>479.000000</td>\n",
       "      <td>2.013071e+07</td>\n",
       "      <td>2013.000000</td>\n",
       "      <td>29.990000</td>\n",
       "      <td>2.399200</td>\n",
       "      <td>0.749800</td>\n",
       "    </tr>\n",
       "    <tr>\n",
       "      <th>75%</th>\n",
       "      <td>529.000000</td>\n",
       "      <td>2.013102e+07</td>\n",
       "      <td>2013.000000</td>\n",
       "      <td>539.990000</td>\n",
       "      <td>43.199200</td>\n",
       "      <td>13.499800</td>\n",
       "    </tr>\n",
       "    <tr>\n",
       "      <th>max</th>\n",
       "      <td>606.000000</td>\n",
       "      <td>2.014013e+07</td>\n",
       "      <td>2014.000000</td>\n",
       "      <td>3578.270000</td>\n",
       "      <td>286.261600</td>\n",
       "      <td>89.456800</td>\n",
       "    </tr>\n",
       "  </tbody>\n",
       "</table>\n",
       "</div>"
      ],
      "text/plain": [
       "         ProductKey  OrderDateKey  CalendarYear   SalesAmount        TaxAmt  \\\n",
       "count  60398.000000  6.039800e+04  60398.000000  60398.000000  60398.000000   \n",
       "mean     437.557932  2.012973e+07   2012.902298    486.086911     38.886954   \n",
       "std      118.088390  4.745050e+03      0.477666    928.489892     74.279193   \n",
       "min      214.000000  2.010123e+07   2010.000000      2.290000      0.183200   \n",
       "25%      359.000000  2.013040e+07   2013.000000      7.950000      0.636000   \n",
       "50%      479.000000  2.013071e+07   2013.000000     29.990000      2.399200   \n",
       "75%      529.000000  2.013102e+07   2013.000000    539.990000     43.199200   \n",
       "max      606.000000  2.014013e+07   2014.000000   3578.270000    286.261600   \n",
       "\n",
       "            Freight  \n",
       "count  60398.000000  \n",
       "mean      12.152217  \n",
       "std       23.212248  \n",
       "min        0.057300  \n",
       "25%        0.198800  \n",
       "50%        0.749800  \n",
       "75%       13.499800  \n",
       "max       89.456800  "
      ]
     },
     "execution_count": 23,
     "metadata": {},
     "output_type": "execute_result"
    }
   ],
   "source": [
    "sales.describe()"
   ]
  },
  {
   "cell_type": "code",
   "execution_count": 24,
   "id": "4876970c-3d63-4b6f-a178-9b82b480daed",
   "metadata": {},
   "outputs": [
    {
     "data": {
      "text/plain": [
       "Index(['ProductKey', 'product', 'product_subcategory', 'OrderDateKey',\n",
       "       'CalendarYear', 'SalesTerritoryRegion', 'SalesTerritoryCountry',\n",
       "       'SalesOrderNumber', 'SalesAmount', 'TaxAmt', 'Freight'],\n",
       "      dtype='object')"
      ]
     },
     "execution_count": 24,
     "metadata": {},
     "output_type": "execute_result"
    }
   ],
   "source": [
    "sales.columns"
   ]
  },
  {
   "cell_type": "code",
   "execution_count": 25,
   "id": "155b9906-2043-4aed-bcae-94ecc8ed6a95",
   "metadata": {},
   "outputs": [
    {
     "data": {
      "text/plain": [
       "product_subcategory\n",
       "Bike Stands            249\n",
       "Bike Racks             328\n",
       "Vests                  562\n",
       "Socks                  568\n",
       "Hydration Packs        733\n",
       "Cleaners               908\n",
       "Shorts                1019\n",
       "Gloves                1430\n",
       "Fenders               2121\n",
       "Touring Bikes         2167\n",
       "Caps                  2190\n",
       "Jerseys               3332\n",
       "Mountain Bikes        4970\n",
       "Helmets               6440\n",
       "Bottles and Cages     7981\n",
       "Road Bikes            8068\n",
       "Tires and Tubes      17332\n",
       "Name: count, dtype: int64"
      ]
     },
     "execution_count": 25,
     "metadata": {},
     "output_type": "execute_result"
    }
   ],
   "source": [
    "sales['product_subcategory'].value_counts(ascending = True)"
   ]
  },
  {
   "cell_type": "code",
   "execution_count": 27,
   "id": "03e720f9-d6a8-44a2-89d2-6ed0146f8a1e",
   "metadata": {},
   "outputs": [
    {
     "data": {
      "text/plain": [
       "Property Type\n",
       "Apartment          8653\n",
       "House               652\n",
       "Loft                327\n",
       "Bed & Breakfast      50\n",
       "Townhouse            32\n",
       "Condominium          22\n",
       "Dorm                 13\n",
       "Other                 8\n",
       "Camper/RV             6\n",
       "Boat                  3\n",
       "Bungalow              3\n",
       "Cabin                 2\n",
       "Villa                 1\n",
       "Name: count, dtype: int64"
      ]
     },
     "execution_count": 27,
     "metadata": {},
     "output_type": "execute_result"
    }
   ],
   "source": [
    "airbnb['Property Type'].value_counts()"
   ]
  },
  {
   "cell_type": "code",
   "execution_count": 33,
   "id": "258ceaaa-3a05-4b92-964d-8dbd66be5197",
   "metadata": {},
   "outputs": [
    {
     "data": {
      "text/plain": [
       "job_title                        salary_in_usd\n",
       "Data Engineer                    160000           68\n",
       "                                 130000           63\n",
       "Applied Scientist                136000           54\n",
       "Data Analyst                     100000           50\n",
       "Data Scientist                   160000           48\n",
       "                                                  ..\n",
       "Data Engineer                    172500            1\n",
       "                                 172600            1\n",
       "                                 172800            1\n",
       "                                 172900            1\n",
       "Staff Machine Learning Engineer  185000            1\n",
       "Name: count, Length: 3600, dtype: int64"
      ]
     },
     "execution_count": 33,
     "metadata": {},
     "output_type": "execute_result"
    }
   ],
   "source": [
    "salaries[['job_title','salary_in_usd']].value_counts()"
   ]
  },
  {
   "cell_type": "code",
   "execution_count": null,
   "id": "9207a22e-80c6-431c-bbe8-639efcdd5cb4",
   "metadata": {},
   "outputs": [],
   "source": []
  },
  {
   "cell_type": "code",
   "execution_count": null,
   "id": "e74e8607-4503-4a3e-b5d2-c4a224d22fc4",
   "metadata": {},
   "outputs": [],
   "source": []
  },
  {
   "cell_type": "code",
   "execution_count": null,
   "id": "c6e26c85-d388-4fdc-adb5-e42af448472e",
   "metadata": {},
   "outputs": [],
   "source": []
  },
  {
   "cell_type": "code",
   "execution_count": null,
   "id": "2b1ccecc-395b-4350-b78c-b4ecc74e0bbc",
   "metadata": {},
   "outputs": [],
   "source": []
  },
  {
   "cell_type": "code",
   "execution_count": null,
   "id": "a9fe422b-fac3-42ad-8fb2-9230533b251c",
   "metadata": {},
   "outputs": [],
   "source": []
  },
  {
   "cell_type": "code",
   "execution_count": null,
   "id": "2b02fbe1-2443-4efb-b4f7-73070f365008",
   "metadata": {},
   "outputs": [],
   "source": []
  }
 ],
 "metadata": {
  "kernelspec": {
   "display_name": "Python [conda env:base] *",
   "language": "python",
   "name": "conda-base-py"
  },
  "language_info": {
   "codemirror_mode": {
    "name": "ipython",
    "version": 3
   },
   "file_extension": ".py",
   "mimetype": "text/x-python",
   "name": "python",
   "nbconvert_exporter": "python",
   "pygments_lexer": "ipython3",
   "version": "3.12.7"
  }
 },
 "nbformat": 4,
 "nbformat_minor": 5
}
